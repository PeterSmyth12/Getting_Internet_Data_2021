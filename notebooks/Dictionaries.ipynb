{
 "cells": [
  {
   "cell_type": "markdown",
   "metadata": {},
   "source": [
    "# The Python dictionary structure\n",
    "\n",
    "### In Python a dictionary object maps keys to values. A dictionary can hold any number of keys and values but a key cannot be duplicated.\n",
    "\n",
    "### The following code shows examples of creating a dictionary object and manipulating keys and values.\n",
    "\n"
   ]
  },
  {
   "cell_type": "code",
   "execution_count": null,
   "metadata": {},
   "outputs": [],
   "source": [
    "# an empty dictionary\n",
    "\n",
    "myDict = {}"
   ]
  },
  {
   "cell_type": "code",
   "execution_count": null,
   "metadata": {},
   "outputs": [],
   "source": [
    "# A dictionary with a single Key-value pair\n",
    "\n",
    "personDict = {'Name' : 'Peter'}"
   ]
  },
  {
   "cell_type": "code",
   "execution_count": null,
   "metadata": {},
   "outputs": [],
   "source": [
    "# I can add more about 'Peter' to the dictionary\n",
    "\n",
    "personDict['Location'] = 'Manchester'"
   ]
  },
  {
   "cell_type": "code",
   "execution_count": null,
   "metadata": {},
   "outputs": [],
   "source": [
    "# I can print all of the keys and values from the dictionary\n",
    "\n",
    "print(personDict.items())"
   ]
  },
  {
   "cell_type": "code",
   "execution_count": null,
   "metadata": {},
   "outputs": [],
   "source": [
    "# I can print all of the keys and values from the dictionary - and make it look a bit nicer\n",
    "\n",
    "for item in personDict:\n",
    "    print(item, \"=\", personDict[item])"
   ]
  },
  {
   "cell_type": "code",
   "execution_count": null,
   "metadata": {},
   "outputs": [],
   "source": [
    "# or all of the keys\n",
    "\n",
    "print(personDict.keys())"
   ]
  },
  {
   "cell_type": "code",
   "execution_count": null,
   "metadata": {},
   "outputs": [],
   "source": [
    "# or all of the values\n",
    "\n",
    "print(personDict.values())"
   ]
  },
  {
   "cell_type": "code",
   "execution_count": null,
   "metadata": {},
   "outputs": [],
   "source": [
    "# I can access the value for a given key\n",
    "\n",
    "x = personDict['Name']\n",
    "print(x)"
   ]
  },
  {
   "cell_type": "code",
   "execution_count": null,
   "metadata": {},
   "outputs": [],
   "source": [
    "# I can change value for a given key\n",
    "\n",
    "personDict['Name'] = \"Fred\"\n",
    "print(personDict['Name'])"
   ]
  },
  {
   "cell_type": "code",
   "execution_count": null,
   "metadata": {},
   "outputs": [],
   "source": [
    "# I can check if a key exists\n",
    "\n",
    "key = 'Name'\n",
    "\n",
    "if key in personDict :\n",
    "    print(\"already exists\")\n",
    "else :\n",
    "    personDict[key] = \"New value\"\n"
   ]
  },
  {
   "cell_type": "markdown",
   "metadata": {},
   "source": [
    "## We can use this simple coding construct to populate dictionaries from scratch"
   ]
  },
  {
   "cell_type": "code",
   "execution_count": null,
   "metadata": {},
   "outputs": [],
   "source": [
    "# start by creating a list of values\n",
    "\n",
    "#colours = ['red', 'orange', 'yellow', 'green', 'blue', 'indigo', 'violet']\n",
    "colours = ['red', 'red', 'red', 'orange', 'yellow', 'green', 'blue', 'indigo', 'violet', 'orange', 'yellow', 'green', 'blue', 'blue', 'indigo', 'orange']\n",
    "\n",
    "# create an empty dictionary\n",
    "\n",
    "rainbow = {}\n",
    "\n",
    "# the n iterate through the list to populate he dictionary and keep count of how often the colours occur in the list\n",
    "\n",
    "for colour in colours:\n",
    "    if colour in rainbow :\n",
    "        rainbow[colour] += 1\n",
    "    else :\n",
    "        rainbow[colour] = 1\n",
    "\n",
    " # Then print out the results\n",
    "\n",
    "for item in rainbow:\n",
    "    print(f'{item} = {rainbow[item]}')\n"
   ]
  },
  {
   "cell_type": "markdown",
   "metadata": {},
   "source": [
    " ## Exercise\n",
    "\n",
    " 1. Create a dictionary called `dict_roof_types` with initial keys of `Tile` and `Slate` and give them values of 1 and 3.\n",
    " 2. Add a third key `Thatch` with a value of 6.\n",
    " 3. Add code to check if a key of `Tin` exists. If it does not add it to the dictionary with a value of 1 if it does, increment its value by 1\n",
    " 4. Add code to check if a key of `Slate` exists. If it does not add it to the dictionary with a value of 1 if it does, increment its value by 1\n",
    " 5. Print out all of the keys and values from the dictionary\n"
   ]
  },
  {
   "cell_type": "code",
   "execution_count": null,
   "metadata": {},
   "outputs": [],
   "source": [
    "## Solution\n",
    "\n",
    "# 1\n",
    "dict_roof_types = {'Tile' : 1 , 'Slate' : 3}\n",
    "\n",
    "# 2\n",
    "dict_roof_types['Thatch'] = 6\n",
    "\n",
    "# 3\n",
    "key = 'Tin'\n",
    "if key in dict_roof_types :\n",
    "    dict_roof_types[key] += 1\n",
    "else :\n",
    "    dict_roof_types[key] = 1\n",
    "\n",
    "# 4\n",
    "key = 'Slate'\n",
    "if key in dict_roof_types :\n",
    "    dict_roof_types[key] += 1\n",
    "else :\n",
    "    dict_roof_types[key] = 1\n",
    "  \n",
    "# 5\n",
    "for item in dict_roof_types:\n",
    "    print(item, \"=\", dict_roof_types[item])\n",
    "     \n",
    "\n"
   ]
  },
  {
   "cell_type": "markdown",
   "metadata": {},
   "source": [
    "## Creating a dataframe from a dictionary\n",
    "\n",
    "### We can convert our dictionary into a Pandas dataframe.\n",
    "\n",
    "### We only need to provide the Dictionary items as a list and the names we wish to use for the columns"
   ]
  },
  {
   "cell_type": "code",
   "execution_count": null,
   "metadata": {},
   "outputs": [],
   "source": [
    "import pandas as pd\n",
    "\n",
    "df = pd.DataFrame(list(rainbow.items()), columns = ['Colour', 'Count'])\n",
    "df"
   ]
  },
  {
   "cell_type": "markdown",
   "metadata": {},
   "source": [
    "## More about dictionaries\n",
    "\n",
    "### In our examples we have only created very simple examples of Dictionaries. Dictionaries can be very complex in natue.\n",
    "### Although the are all made of of Key, Value pairs, the strength and complxity occurs because the the Values can be of any data type. Including Lists and Dictionaries. This allows dictionaries to be created of arbitary complexity."
   ]
  },
  {
   "cell_type": "code",
   "execution_count": null,
   "metadata": {},
   "outputs": [],
   "source": []
  }
 ],
 "metadata": {
  "kernelspec": {
   "display_name": "Python 3",
   "language": "python",
   "name": "python3"
  },
  "language_info": {
   "codemirror_mode": {
    "name": "ipython",
    "version": 3
   },
   "file_extension": ".py",
   "mimetype": "text/x-python",
   "name": "python",
   "nbconvert_exporter": "python",
   "pygments_lexer": "ipython3",
   "version": "3.7.10"
  }
 },
 "nbformat": 4,
 "nbformat_minor": 4
}
