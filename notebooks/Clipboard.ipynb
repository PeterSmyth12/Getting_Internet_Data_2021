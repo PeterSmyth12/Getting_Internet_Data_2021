{
 "cells": [
  {
   "cell_type": "markdown",
   "metadata": {},
   "source": [
    "## Using Copy/Paste and the Python clipboard and pandas libraries"
   ]
  },
  {
   "cell_type": "code",
   "execution_count": null,
   "metadata": {},
   "outputs": [],
   "source": [
    "# You may need to install the clipboard package\n",
    "!pip install clipboard"
   ]
  },
  {
   "cell_type": "markdown",
   "metadata": {},
   "source": [
    "## Libraries we will need"
   ]
  },
  {
   "cell_type": "code",
   "execution_count": null,
   "metadata": {},
   "outputs": [],
   "source": [
    "import pandas as pd\n",
    "import clipboard                              #!pip install clipboard"
   ]
  },
  {
   "cell_type": "markdown",
   "metadata": {},
   "source": [
    "### Where will we get our data from?\n",
    "\n",
    "1. Wikipedia - country populations  -   https://en.wikipedia.org/wiki/List_of_countries_and_dependencies_by_population\n",
    "2. Premier league table             -   https://www.bbc.co.uk/sport/football/premier-league/table"
   ]
  },
  {
   "cell_type": "markdown",
   "metadata": {},
   "source": [
    "## Country populations\n",
    "\n",
    "1. From the web page https://en.wikipedia.org/wiki/List_of_countries_and_dependencies_by_population copy the complete table of country populations\n",
    "2. Paste it into an Excel spreadsheet. When you paste you will have two options, 'Keep source fomatting' and 'Merge Destination formatting, try them both."
   ]
  },
  {
   "cell_type": "code",
   "execution_count": null,
   "metadata": {},
   "outputs": [],
   "source": [
    "df_pops = pd.read_clipboard()\n",
    "#df_pops = pd.read_clipboard(sep = '\\t')\n",
    "df_pops.head()"
   ]
  },
  {
   "cell_type": "markdown",
   "metadata": {},
   "source": [
    "## Rename the columns"
   ]
  },
  {
   "cell_type": "code",
   "execution_count": null,
   "metadata": {},
   "outputs": [],
   "source": [
    "\n",
    "\n",
    "df_pops.rename(columns={\"Country or dependent territory\":\"Country\", \"% of world\" : \"world_percentage\", \"Source (official or United Nations)\" : \"source\" }, inplace = True)\n",
    "\n",
    "df_pops.head()"
   ]
  },
  {
   "cell_type": "markdown",
   "metadata": {},
   "source": [
    "## Do you really know what the columns are called"
   ]
  },
  {
   "cell_type": "code",
   "execution_count": null,
   "metadata": {},
   "outputs": [],
   "source": [
    "df_pops.columns"
   ]
  },
  {
   "cell_type": "code",
   "execution_count": null,
   "metadata": {},
   "outputs": [],
   "source": [
    "df_pops.rename(columns={\"Country or dependent territory \":\"Country\", \"% of world \" : \"world_percentage\", \"Source (official or United Nations)\" : \"source\" }, inplace = True)\n",
    "\n",
    "df_pops.head()"
   ]
  },
  {
   "cell_type": "markdown",
   "metadata": {},
   "source": [
    "## Now fix row 0\n",
    "\n",
    "### This shuffling approach taken is simplistic, but clear for a few columns. Not readily scalable to tens of columns.\n",
    "\n",
    "### At which point you would probably want to extract the whole row and manipulate it as a list. (Exercise!)"
   ]
  },
  {
   "cell_type": "code",
   "execution_count": null,
   "metadata": {},
   "outputs": [],
   "source": [
    "df_pops.at[0,'source'] = df_pops.at[0,'Date ']\n",
    "df_pops.at[0,'Date '] = df_pops.at[0,'world_percentage']\n",
    "df_pops.at[0,'world_percentage'] = df_pops.at[0,'Population ']\n",
    "df_pops.at[0,'Population '] = df_pops.at[0,'Region ']\n",
    "df_pops.at[0,'Region '] = df_pops.at[0,'Country']\n",
    "df_pops.at[0,'Country'] = ''\n",
    "df_pops.head()\n"
   ]
  },
  {
   "cell_type": "markdown",
   "metadata": {},
   "source": [
    "### Next want to remove all of the extraneous stuff in the `Country` column\n",
    "\n"
   ]
  },
  {
   "cell_type": "code",
   "execution_count": null,
   "metadata": {},
   "outputs": [],
   "source": [
    "df_pops['Country'] = df_pops['Country'].str.split('(', expand =True)[0].str.strip()\n",
    "df_pops.head()"
   ]
  },
  {
   "cell_type": "markdown",
   "metadata": {},
   "source": [
    "### Exercise\n",
    "\n",
    "### How would you preserve the letters in square brackets?"
   ]
  },
  {
   "cell_type": "markdown",
   "metadata": {},
   "source": [
    "## Example 2\n",
    "\n",
    "### The Premier league table\n",
    "\n",
    "#### Copy the table from here https://www.bbc.co.uk/sport/football/premier-league/table , copy to Excel as before and see what is noticed\n",
    "\n",
    "#### This is nothing we can do about the 'lost' data, but we will continue with this data to illustrate other issues with copy/paste\n",
    "\n"
   ]
  },
  {
   "cell_type": "markdown",
   "metadata": {},
   "source": [
    "## Try creating a dataframe as before"
   ]
  },
  {
   "cell_type": "code",
   "execution_count": null,
   "metadata": {},
   "outputs": [],
   "source": [
    "#df_premier = pd.read_clipboard()\n",
    "df_premier = pd.read_clipboard(sep = '\\t')\n",
    "df_premier.head()"
   ]
  },
  {
   "cell_type": "markdown",
   "metadata": {},
   "source": [
    "### So what has gone wrong?\n",
    "\n",
    "### We need to examine the data in more detail"
   ]
  },
  {
   "cell_type": "code",
   "execution_count": null,
   "metadata": {},
   "outputs": [],
   "source": [
    "text = clipboard.paste()\n",
    "print(text)"
   ]
  },
  {
   "cell_type": "code",
   "execution_count": null,
   "metadata": {},
   "outputs": [],
   "source": [
    "text = clipboard.paste()\n",
    "text = text.replace('\\r\\nt', 't')\n",
    "text = text.replace('d\\t\\r\\n', 'd\\t')\n",
    "\n",
    "print(text)"
   ]
  },
  {
   "cell_type": "code",
   "execution_count": null,
   "metadata": {},
   "outputs": [],
   "source": [
    "clipboard.copy(text)\n",
    "df_premier = pd.read_clipboard(sep = '\\t')\n",
    "df_premier.head()"
   ]
  },
  {
   "cell_type": "code",
   "execution_count": null,
   "metadata": {},
   "outputs": [],
   "source": [
    "df_premier.info()"
   ]
  },
  {
   "cell_type": "code",
   "execution_count": null,
   "metadata": {},
   "outputs": [],
   "source": []
  }
 ],
 "metadata": {
  "kernelspec": {
   "display_name": "Python 3",
   "language": "python",
   "name": "python3"
  },
  "language_info": {
   "codemirror_mode": {
    "name": "ipython",
    "version": 3
   },
   "file_extension": ".py",
   "mimetype": "text/x-python",
   "name": "python",
   "nbconvert_exporter": "python",
   "pygments_lexer": "ipython3",
   "version": "3.7.10"
  }
 },
 "nbformat": 4,
 "nbformat_minor": 4
}
