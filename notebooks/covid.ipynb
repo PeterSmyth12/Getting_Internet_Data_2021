{
 "cells": [
  {
   "cell_type": "markdown",
   "metadata": {},
   "source": [
    "\n",
    "## Downloading Multiple files\n",
    "\n",
    "### Often, it is possible to work out from a few files that there is a pattern in the way files and hence the URLs are created\n",
    "\n",
    "### In this example we will make use of such a pattern to allow us to download multiple files"
   ]
  },
  {
   "cell_type": "code",
   "execution_count": null,
   "metadata": {},
   "outputs": [],
   "source": []
  },
  {
   "cell_type": "code",
   "execution_count": null,
   "metadata": {},
   "outputs": [],
   "source": []
  },
  {
   "cell_type": "code",
   "execution_count": null,
   "metadata": {},
   "outputs": [],
   "source": []
  },
  {
   "cell_type": "markdown",
   "metadata": {},
   "source": [
    "### The libraries we need"
   ]
  },
  {
   "cell_type": "code",
   "execution_count": null,
   "metadata": {},
   "outputs": [],
   "source": [
    "import requests\n",
    "import pandas as pd"
   ]
  },
  {
   "cell_type": "markdown",
   "metadata": {},
   "source": [
    "## The code below is similar to what we have seen before\n",
    "\n",
    "### The file comes from the Webpage `https://www.getthedata.com/covid-19/utla-by-day`\n",
    "\n",
    "### With the link to the download file shown as `cases_by_utla_2020-03-16.csv`\n",
    "### This is infact a relative address from the website.\n",
    "\n",
    "## But the FULL url of the actual file we would download is shown at the bottom left of the screen as we hover over the link. It is:\n",
    "\n",
    "##  ![Actual Filename](./images/actual_filename.jpg)\n",
    "\n",
    "## If we want to download the file by other means then this is the URL that we must use."
   ]
  },
  {
   "cell_type": "code",
   "execution_count": null,
   "metadata": {},
   "outputs": [],
   "source": [
    "\n",
    "myurl = 'https://www.getthedata.com/downloads/cases_by_utla_2020-03-16.csv'\n",
    "\n",
    "savefilename = '200316.csv'\n",
    "r = requests.get(myurl)\n",
    "print(r.status_code)\n",
    "file = open(savefilename, \"wb\")\n",
    "file.write(r.content)\n",
    "file.close()"
   ]
  },
  {
   "cell_type": "markdown",
   "metadata": {},
   "source": [
    "## If we wanted to download multiple files we can use the structure of the filenames and requests the downloads in a loop structure\n",
    "### Like we see below. \n",
    "### As we want to save the files we use a similar technique to name the output files."
   ]
  },
  {
   "cell_type": "code",
   "execution_count": null,
   "metadata": {},
   "outputs": [],
   "source": [
    "stem = 'https://www.getthedata.com/downloads/cases_by_utla_2020-03-'\n",
    "ftype = '.csv'\n",
    "\n",
    "ym = 'd:/covid19'\n",
    "date_stem = '2020-03-'\n",
    "\n",
    "for i in range(16,32):\n",
    "    print(f'{stem}{i}{ftype}')\n",
    "    print(f'{ym}/{date_stem}{i}{ftype}')    "
   ]
  },
  {
   "cell_type": "markdown",
   "metadata": {},
   "source": [
    "## Then we can put it all together"
   ]
  },
  {
   "cell_type": "code",
   "execution_count": null,
   "metadata": {},
   "outputs": [],
   "source": [
    "stem = 'https://www.getthedata.com/downloads/cases_by_utla_2020-03-'\n",
    "ftype = '.csv'\n",
    "\n",
    "ym = 'd:/covid19'\n",
    "date_stem = '2020-03-'\n",
    "\n",
    "for i in range(16,32):\n",
    "    # set up URL and filename\n",
    "    myurl = stem + str(i) + ftype\n",
    "    savefilename = ym + \"/\" + date_stem + str(i) + ftype\n",
    "    \n",
    "    # Make the request\n",
    "    r = requests.get(myurl)\n",
    "    print(r.status_code)\n",
    "    \n",
    "    # Write the output file\n",
    "    file = open(savefilename, \"wb\")\n",
    "    file.write(r.content)\n",
    "    file.close()\n"
   ]
  },
  {
   "cell_type": "markdown",
   "metadata": {},
   "source": [
    "## Exercise\n",
    "\n",
    "### When will the above code run to problems?"
   ]
  },
  {
   "cell_type": "code",
   "execution_count": null,
   "metadata": {},
   "outputs": [],
   "source": []
  },
  {
   "cell_type": "code",
   "execution_count": null,
   "metadata": {},
   "outputs": [],
   "source": []
  },
  {
   "cell_type": "code",
   "execution_count": null,
   "metadata": {},
   "outputs": [],
   "source": []
  },
  {
   "cell_type": "code",
   "execution_count": null,
   "metadata": {},
   "outputs": [],
   "source": []
  },
  {
   "cell_type": "code",
   "execution_count": null,
   "metadata": {},
   "outputs": [],
   "source": []
  },
  {
   "cell_type": "code",
   "execution_count": null,
   "metadata": {},
   "outputs": [],
   "source": []
  },
  {
   "cell_type": "code",
   "execution_count": null,
   "metadata": {},
   "outputs": [],
   "source": []
  },
  {
   "cell_type": "code",
   "execution_count": null,
   "metadata": {},
   "outputs": [],
   "source": []
  },
  {
   "cell_type": "code",
   "execution_count": null,
   "metadata": {},
   "outputs": [],
   "source": []
  },
  {
   "cell_type": "code",
   "execution_count": null,
   "metadata": {},
   "outputs": [],
   "source": []
  },
  {
   "cell_type": "markdown",
   "metadata": {},
   "source": [
    "### There are two problems both related to how the we iterate through the dates.\n",
    "\n",
    "### We only downloaded the files to the end of March. If we wanted to go into April, the `date_stem` would need changing but also the the valur of `str(i)` for the first nine days would not have the required leading zero.\n",
    "\n",
    "### We can resolve both of these problems at the same time datetime methods in pandas.\n"
   ]
  },
  {
   "cell_type": "code",
   "execution_count": null,
   "metadata": {},
   "outputs": [],
   "source": [
    "import pandas as pd\n",
    "\n",
    "# Getting a list of dates\n",
    "\n",
    "sdate = '2020-03-16'\n",
    "edate = '2020-12-31'\n",
    "\n",
    "date_list = pd.date_range(sdate, edate, freq='d')\n",
    "\n",
    "print(date_list)\n",
    "#\n",
    "\n",
    "print(f'{date_list[0]}')\n",
    "#\n",
    "\n",
    "date_list[0].strftime('%Y-%m-%d')"
   ]
  },
  {
   "cell_type": "markdown",
   "metadata": {},
   "source": [
    "## Things I need to change\n",
    "\n",
    "1. The `stem`\n",
    "2. Create list of dates\n",
    "3. Iterate through dates in `for` loop\n",
    "4. change `myurl` to include the string format of the date\n",
    "5. cchange `savefilename` to include the string format of the date"
   ]
  },
  {
   "cell_type": "code",
   "execution_count": null,
   "metadata": {},
   "outputs": [],
   "source": [
    "stem = 'https://www.getthedata.com/downloads/cases_by_utla_'\n",
    "ftype = '.csv'\n",
    "\n",
    "ym = 'd:/covid19'\n",
    "\n",
    "# Getting a list of dates\n",
    "\n",
    "sdate = '2020-03-16'\n",
    "edate = '2020-12-31'\n",
    "\n",
    "date_list = pd.date_range(sdate, edate, freq='d')\n",
    "\n",
    "for date in date_list:\n",
    "    # set up URL and filename\n",
    "    myurl = stem + date.strftime('%Y-%m-%d') + ftype\n",
    "    savefilename = ym + \"/\" + date.strftime('%Y-%m-%d') + ftype\n",
    "    \n",
    "    # Make the request\n",
    "    r = requests.get(myurl)\n",
    "    print(r.status_code)\n",
    "    \n",
    "    # Write the output file\n",
    "    file = open(savefilename, \"wb\")\n",
    "    file.write(r.content)\n",
    "    file.close()"
   ]
  },
  {
   "cell_type": "code",
   "execution_count": null,
   "metadata": {},
   "outputs": [],
   "source": []
  },
  {
   "cell_type": "code",
   "execution_count": null,
   "metadata": {},
   "outputs": [],
   "source": []
  },
  {
   "cell_type": "code",
   "execution_count": null,
   "metadata": {},
   "outputs": [],
   "source": []
  },
  {
   "cell_type": "markdown",
   "metadata": {},
   "source": [
    "## Once downloaded we can use Excel Data | Import from other sources | from folder  to combine the files into one."
   ]
  },
  {
   "cell_type": "code",
   "execution_count": null,
   "metadata": {},
   "outputs": [],
   "source": []
  }
 ],
 "metadata": {
  "kernelspec": {
   "display_name": "Python 3",
   "language": "python",
   "name": "python3"
  },
  "language_info": {
   "codemirror_mode": {
    "name": "ipython",
    "version": 3
   },
   "file_extension": ".py",
   "mimetype": "text/x-python",
   "name": "python",
   "nbconvert_exporter": "python",
   "pygments_lexer": "ipython3",
   "version": "3.7.10"
  }
 },
 "nbformat": 4,
 "nbformat_minor": 4
}
