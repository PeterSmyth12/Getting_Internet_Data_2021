{
 "cells": [
  {
   "cell_type": "code",
   "execution_count": 1,
   "metadata": {},
   "outputs": [],
   "source": [
    "a = 2\n",
    "b = 3.142\n"
   ]
  },
  {
   "cell_type": "code",
   "execution_count": 2,
   "metadata": {},
   "outputs": [
    {
     "name": "stdout",
     "output_type": "stream",
     "text": [
      "<class 'int'>\n",
      "<class 'float'>\n",
      "<class 'str'>\n"
     ]
    }
   ],
   "source": [
    "print(type(a))\n",
    "print(type(b))\n",
    "s = \"Hello World\"\n",
    "print(type(s))\n"
   ]
  },
  {
   "cell_type": "code",
   "execution_count": 3,
   "metadata": {},
   "outputs": [
    {
     "name": "stdout",
     "output_type": "stream",
     "text": [
      "a = 2 and b = 3.142\n",
      "5.1419999999999995\n",
      "6.284\n",
      "-1.142\n",
      "0.6365372374283896\n",
      "9.872164\n",
      "0.8580000000000001\n"
     ]
    }
   ],
   "source": [
    "print(\"a =\", a, \"and b =\" , b)\n",
    "print(a + b)      # addition\n",
    "print(a * b)      # multiplication\n",
    "print(a - b)      # subtraction\n",
    "print(a / b)      # division\n",
    "print(b ** a)     # exponentiation\n",
    "print(2 * a % b)  # modulus - returns the remainder\n"
   ]
  },
  {
   "cell_type": "code",
   "execution_count": 4,
   "metadata": {},
   "outputs": [
    {
     "name": "stdout",
     "output_type": "stream",
     "text": [
      "a = 2 and b = 3.142\n",
      "a = 2 and b = 3.142\n",
      "a = 2 and b = 3.142\n",
      "a = 2 and b = 3.142\n"
     ]
    }
   ],
   "source": [
    "print(\"a =\", a, \"and b =\" , b)\n",
    "print(\"a = \" + str(a) + \" and b = \" + str(b))\n",
    "print(f'a = {a} and b = {b}')\n",
    "print('a = {} and b = {}'.format(a,b))"
   ]
  },
  {
   "cell_type": "code",
   "execution_count": null,
   "metadata": {},
   "outputs": [],
   "source": [
    "\"a =\", a, \"and b =\" , b"
   ]
  },
  {
   "cell_type": "code",
   "execution_count": 5,
   "metadata": {},
   "outputs": [
    {
     "name": "stdout",
     "output_type": "stream",
     "text": [
      "Help on built-in function print in module builtins:\n",
      "\n",
      "print(...)\n",
      "    print(value, ..., sep=' ', end='\\n', file=sys.stdout, flush=False)\n",
      "    \n",
      "    Prints the values to a stream, or to sys.stdout by default.\n",
      "    Optional keyword arguments:\n",
      "    file:  a file-like object (stream); defaults to the current sys.stdout.\n",
      "    sep:   string inserted between values, default a space.\n",
      "    end:   string appended after the last value, default a newline.\n",
      "    flush: whether to forcibly flush the stream.\n",
      "\n"
     ]
    }
   ],
   "source": [
    "help(print)"
   ]
  },
  {
   "cell_type": "code",
   "execution_count": 6,
   "metadata": {},
   "outputs": [
    {
     "ename": "ValueError",
     "evalue": "invalid literal for int() with base 10: 'hello'",
     "output_type": "error",
     "traceback": [
      "\u001b[1;31m---------------------------------------------------------------------------\u001b[0m",
      "\u001b[1;31mValueError\u001b[0m                                Traceback (most recent call last)",
      "\u001b[1;32m<ipython-input-6-d7bb610af685>\u001b[0m in \u001b[0;36m<module>\u001b[1;34m\u001b[0m\n\u001b[0;32m      1\u001b[0m \u001b[0md\u001b[0m \u001b[1;33m=\u001b[0m \u001b[1;34m\"hello\"\u001b[0m\u001b[1;33m\u001b[0m\u001b[1;33m\u001b[0m\u001b[0m\n\u001b[1;32m----> 2\u001b[1;33m \u001b[0mprint\u001b[0m\u001b[1;33m(\u001b[0m\u001b[0mint\u001b[0m\u001b[1;33m(\u001b[0m\u001b[0md\u001b[0m\u001b[1;33m)\u001b[0m\u001b[1;33m)\u001b[0m\u001b[1;33m\u001b[0m\u001b[1;33m\u001b[0m\u001b[0m\n\u001b[0m",
      "\u001b[1;31mValueError\u001b[0m: invalid literal for int() with base 10: 'hello'"
     ]
    }
   ],
   "source": [
    "d = \"hello\"\n",
    "print(int(d))"
   ]
  },
  {
   "cell_type": "code",
   "execution_count": 7,
   "metadata": {},
   "outputs": [
    {
     "name": "stdout",
     "output_type": "stream",
     "text": [
      "33\n"
     ]
    }
   ],
   "source": [
    "e = \"33\"\n",
    "print(int(e))"
   ]
  },
  {
   "cell_type": "code",
   "execution_count": 8,
   "metadata": {},
   "outputs": [
    {
     "name": "stdout",
     "output_type": "stream",
     "text": [
      "12\n"
     ]
    }
   ],
   "source": [
    "f = \"12.345\"\n",
    "print(int(float(f)))"
   ]
  },
  {
   "cell_type": "markdown",
   "metadata": {},
   "source": [
    "### Strings"
   ]
  },
  {
   "cell_type": "code",
   "execution_count": 9,
   "metadata": {},
   "outputs": [
    {
     "name": "stdout",
     "output_type": "stream",
     "text": [
      "True\n",
      "0\n",
      "THE QUICK BROWN FOX JUMPED OVER THE LAZY SLEEPING DOG\n",
      "The quick brown fox jumped over the lazy sleeping dog\n"
     ]
    }
   ],
   "source": [
    "myString = \"The quick brown fox jumped over the lazy sleeping dog\"\n",
    "\n",
    "print(myString.startswith(\"The\"))\n",
    "print(myString.find(\"The\"))        # notice that string positions start with 0 like all indexing in Python\n",
    "print(myString.upper())            # The contents of myString is not changed, if you wanted an uppercase version\n",
    "print(myString)                    # you would have to assign it to a new variable\n"
   ]
  },
  {
   "cell_type": "code",
   "execution_count": 10,
   "metadata": {},
   "outputs": [
    {
     "name": "stdout",
     "output_type": "stream",
     "text": [
      "e\n",
      "quick\n",
      "20\n"
     ]
    }
   ],
   "source": [
    "print(myString[2])\n",
    "## or a substring\n",
    "print(myString[4:9])\n",
    "## String functions often return index values\n",
    "print(myString.find('jumped'))"
   ]
  },
  {
   "cell_type": "code",
   "execution_count": 11,
   "metadata": {},
   "outputs": [
    {
     "name": "stdout",
     "output_type": "stream",
     "text": [
      "Teqikbonfxjme vrtelz leigdg\n"
     ]
    }
   ],
   "source": [
    "print(myString[0:len(myString):2])"
   ]
  },
  {
   "cell_type": "code",
   "execution_count": 12,
   "metadata": {},
   "outputs": [
    {
     "name": "stdout",
     "output_type": "stream",
     "text": [
      "Teqikbonfxjme vrtelz leigdgh uc rw o updoe h aysepn o\n"
     ]
    }
   ],
   "source": [
    "encode = myString[0:len(myString):2] + myString[1:len(myString):2]\n",
    "print(encode)"
   ]
  },
  {
   "cell_type": "code",
   "execution_count": 13,
   "metadata": {},
   "outputs": [
    {
     "name": "stdout",
     "output_type": "stream",
     "text": [
      "Teqikbonfxjme vrtelz leigdg\n",
      "h uc rw o updoe h aysepn o!\n"
     ]
    }
   ],
   "source": [
    "\n",
    "if len(encode) % 2 == 1 :\n",
    "    encode = encode + '!'\n",
    "print(encode[0:int(len(encode)/2)])\n",
    "print(encode[int(len(encode)/2):len(encode)+1])"
   ]
  },
  {
   "cell_type": "code",
   "execution_count": null,
   "metadata": {},
   "outputs": [],
   "source": []
  },
  {
   "cell_type": "code",
   "execution_count": 15,
   "metadata": {},
   "outputs": [
    {
     "name": "stdout",
     "output_type": "stream",
     "text": [
      "The quick brown fox jumped over the lazy sleeping dog!\n"
     ]
    }
   ],
   "source": [
    "if len(encode) % 2 == 1 :\n",
    "    encode = encode + '!'\n",
    "a = encode[0:int(len(encode)/2)]\n",
    "b = encode[int(len(encode)/2):len(encode)+1]\n",
    "\n",
    "decode = \"\"\n",
    "for x in range(len(a)) :\n",
    "    decode += a[x]\n",
    "    decode += b[x]\n",
    "print(decode)"
   ]
  },
  {
   "cell_type": "code",
   "execution_count": 16,
   "metadata": {},
   "outputs": [
    {
     "name": "stdout",
     "output_type": "stream",
     "text": [
      "The quick brown fox jumped over the lazy sleeping dog\n",
      "!\n"
     ]
    }
   ],
   "source": [
    "print(decode[:-1])\n",
    "print(decode[-1])"
   ]
  },
  {
   "cell_type": "markdown",
   "metadata": {},
   "source": [
    "### Reversing a string"
   ]
  },
  {
   "cell_type": "code",
   "execution_count": 17,
   "metadata": {},
   "outputs": [
    {
     "name": "stdout",
     "output_type": "stream",
     "text": [
      "god gnipeels yzal eht revo depmuj xof nworb kciuq ehT\n"
     ]
    }
   ],
   "source": [
    "print(myString[::-1])"
   ]
  },
  {
   "cell_type": "markdown",
   "metadata": {},
   "source": [
    "### Boolean values"
   ]
  },
  {
   "cell_type": "code",
   "execution_count": 18,
   "metadata": {},
   "outputs": [
    {
     "name": "stdout",
     "output_type": "stream",
     "text": [
      "<class 'bool'>\n",
      "True\n",
      "<class 'bool'>\n",
      "False\n"
     ]
    }
   ],
   "source": [
    "bool_val_t = True\n",
    "print(type(bool_val_t))\n",
    "print(bool_val_t)\n",
    "bool_val_f = False\n",
    "print(type(bool_val_f))\n",
    "print(bool_val_f)\n"
   ]
  },
  {
   "cell_type": "code",
   "execution_count": 19,
   "metadata": {},
   "outputs": [
    {
     "name": "stdout",
     "output_type": "stream",
     "text": [
      "2\n"
     ]
    }
   ],
   "source": [
    "print(True + True)"
   ]
  },
  {
   "cell_type": "code",
   "execution_count": 20,
   "metadata": {},
   "outputs": [
    {
     "name": "stdout",
     "output_type": "stream",
     "text": [
      "read as type  <class 'str'>\n"
     ]
    }
   ],
   "source": [
    "bool_val1 = 'TRUE'\n",
    "print('read as type ',type(bool_val1))"
   ]
  },
  {
   "cell_type": "code",
   "execution_count": 21,
   "metadata": {},
   "outputs": [
    {
     "name": "stdout",
     "output_type": "stream",
     "text": [
      "True\n",
      "True\n",
      "False\n",
      "True\n",
      "True\n"
     ]
    }
   ],
   "source": [
    "print(bool(1))\n",
    "print(bool(100))\n",
    "print (bool(1 - 1))\n",
    "print(bool(\"True\"))\n",
    "print(bool(\"False\"))"
   ]
  },
  {
   "cell_type": "markdown",
   "metadata": {},
   "source": [
    "### The range function"
   ]
  },
  {
   "cell_type": "code",
   "execution_count": 22,
   "metadata": {},
   "outputs": [
    {
     "name": "stdout",
     "output_type": "stream",
     "text": [
      "[0, 1, 2, 3, 4]\n"
     ]
    }
   ],
   "source": [
    "list5 = list(range(5))\n",
    "print(list5)\n"
   ]
  },
  {
   "cell_type": "code",
   "execution_count": 23,
   "metadata": {},
   "outputs": [
    {
     "name": "stdout",
     "output_type": "stream",
     "text": [
      "[1, 2, 3, 4, 5, 6, 7, 8]\n",
      "[2, 4, 6, 8, 10]\n"
     ]
    }
   ],
   "source": [
    "list6 = list(range(1, 9))\n",
    "print(list6)\n",
    "list7 = list(range(2, 11, 2))\n",
    "print(list7)\n"
   ]
  },
  {
   "cell_type": "markdown",
   "metadata": {},
   "source": [
    "## Control Statements"
   ]
  },
  {
   "cell_type": "markdown",
   "metadata": {},
   "source": [
    "### The If statement"
   ]
  },
  {
   "cell_type": "code",
   "execution_count": 24,
   "metadata": {},
   "outputs": [
    {
     "name": "stdout",
     "output_type": "stream",
     "text": [
      "\n",
      "Example 1\n",
      "\n",
      "value is 5 threshold is  4\n",
      "5 is above  4  threshold\n",
      "\n",
      "Example 2\n",
      "\n",
      "value is 5 new threshold is  6\n",
      "\n",
      "Example 3\n",
      "\n",
      "value is 5 final threshold is  5\n",
      "value,  5  and threshold, 5 , are equal\n"
     ]
    }
   ],
   "source": [
    "print(\"\\nExample 1\\n\")\n",
    "\n",
    "value = 5\n",
    "threshold= 4\n",
    "\n",
    "print(\"value is\", value, \"threshold is \",threshold)\n",
    "\n",
    "if value > threshold :\n",
    "    print(value, \"is above \", threshold, \" threshold\")\n",
    "\n",
    "print(\"\\nExample 2\\n\")\n",
    "\n",
    "high_threshold = 6\n",
    "print(\"value is\", value, \"new threshold is \",high_threshold)\n",
    "if value > high_threshold :\n",
    "    print(value , \"is above \", high_threshold, \"threshold\")\n",
    "\n",
    "print(\"\\nExample 3\\n\")\n",
    "\n",
    "mid_threshold = 5\n",
    "print(\"value is\", value, \"final threshold is \",mid_threshold)\n",
    "if value == mid_threshold :\n",
    "    print(\"value, \", value, \" and threshold,\", mid_threshold, \", are equal\")"
   ]
  },
  {
   "cell_type": "code",
   "execution_count": null,
   "metadata": {},
   "outputs": [],
   "source": [
    "\n",
    "        "
   ]
  },
  {
   "cell_type": "markdown",
   "metadata": {},
   "source": [
    "### If...Else"
   ]
  },
  {
   "cell_type": "code",
   "execution_count": null,
   "metadata": {},
   "outputs": [],
   "source": [
    "value = 4\n",
    "threshold = 5\n",
    "print(\"value = \", value, \"and threshold = \", threshold)\n",
    "if value > threshold :\n",
    "    print(\"above threshold\")\n",
    "else :\n",
    "    print(\"below threshold\")\n",
    "\n"
   ]
  },
  {
   "cell_type": "markdown",
   "metadata": {},
   "source": [
    "### The For Loop"
   ]
  },
  {
   "cell_type": "code",
   "execution_count": 25,
   "metadata": {},
   "outputs": [
    {
     "name": "stdout",
     "output_type": "stream",
     "text": [
      "\n",
      "Example 1\n",
      "\n",
      "1\n",
      "2\n",
      "3\n",
      "\n",
      "Example 2\n",
      "\n",
      "Tom\n",
      "Dick\n",
      "Harry\n",
      "\n",
      "Example 3\n",
      "\n",
      "Tom\n",
      "42\n",
      "3.142\n",
      "\n",
      "Example 4\n",
      "\n",
      "0\n",
      "1\n",
      "2\n",
      "\n",
      "Example 5\n",
      "\n",
      "1\n",
      "2\n",
      "3\n",
      "\n",
      "Example 6\n",
      "\n",
      "2\n",
      "4\n",
      "6\n",
      "8\n",
      "10\n",
      "\n",
      "Example 7\n",
      "\n",
      "A\n",
      "B\n",
      "C\n",
      "D\n",
      "E\n",
      "\n",
      "Example 8\n",
      "\n",
      "The\n",
      "quick\n",
      "brown\n",
      "fox\n",
      "jumped\n",
      "over\n",
      "the\n",
      "lazy\n",
      "sleeping\n",
      "dog\n"
     ]
    }
   ],
   "source": [
    "print(\"\\nExample 1\\n\")\n",
    "\n",
    "for i in [1,2,3] :\n",
    "    print(i)\n",
    "\n",
    "print(\"\\nExample 2\\n\")\n",
    "\n",
    "for name in [\"Tom\", \"Dick\", \"Harry\"] :\n",
    "    print(name)\n",
    "\n",
    "print(\"\\nExample 3\\n\")\n",
    "\n",
    "for name in [\"Tom\", 42, 3.142] :\n",
    "    print(name)\n",
    "\n",
    "print(\"\\nExample 4\\n\")\n",
    "\n",
    "for i in range(3) :\n",
    "    print(i)\n",
    "\n",
    "print(\"\\nExample 5\\n\")\n",
    "\n",
    "for i in range(1,4) :\n",
    "    print(i)\n",
    "\n",
    "print(\"\\nExample 6\\n\")\n",
    "\n",
    "for i in range(2, 11, 2) :\n",
    "    print(i)\n",
    "\n",
    "print(\"\\nExample 7\\n\")\n",
    "\n",
    "for i in \"ABCDE\" :\n",
    "    print(i)\n",
    "\n",
    "print(\"\\nExample 8\\n\")\n",
    "\n",
    "longString = \"The quick brown fox jumped over the lazy sleeping dog\"\n",
    "for word in longString.split() :\n",
    "    print(word)"
   ]
  },
  {
   "cell_type": "code",
   "execution_count": null,
   "metadata": {},
   "outputs": [],
   "source": []
  },
  {
   "cell_type": "markdown",
   "metadata": {},
   "source": [
    "### Things to go wrong with the while construct"
   ]
  },
  {
   "cell_type": "code",
   "execution_count": null,
   "metadata": {},
   "outputs": [],
   "source": [
    "# while loop - summing the numbers 1 to 10\n",
    "n = 10\n",
    "cur_sum = 0\n",
    "# sum of n  numbers\n",
    "i = 0\n",
    "while  i <= n :\n",
    "    i = i + 1\n",
    "    cur_sum = cur_sum + i\n",
    "    \n",
    "print(\"The sum of the numbers from 1 to\", n, \"is \", cur_sum)\n",
    " \n"
   ]
  },
  {
   "cell_type": "code",
   "execution_count": null,
   "metadata": {},
   "outputs": [],
   "source": [
    "# while loop - summing the numbers 1 to 10\n",
    "n = 10\n",
    "cur_sum = 0\n",
    "boolvalue = False\n",
    "# sum of n  numbers\n",
    "i = 0\n",
    "while  i <= n and boolvalue:\n",
    "    cur_sum = cur_sum + i\n",
    "    i = i + 1\n",
    "    \n",
    "print(\"The sum of the numbers from 1 to\", n, \"is \", cur_sum)\n"
   ]
  },
  {
   "cell_type": "code",
   "execution_count": null,
   "metadata": {},
   "outputs": [],
   "source": [
    "# while loop - summing the numbers 1 to 10\n",
    "n = 10\n",
    "cur_sum = 0\n",
    "# sum of n  numbers\n",
    "i = 0\n",
    "while  i != n :\n",
    "    cur_sum = cur_sum + i\n",
    "    i = i + 1\n",
    "\n",
    "print(\"The sum of the numbers from 1 to\", n, \"is \", cur_sum)\n"
   ]
  },
  {
   "cell_type": "code",
   "execution_count": null,
   "metadata": {},
   "outputs": [],
   "source": [
    "# while loop - summing the numbers 1.1 to 9.9 i. steps of 1.1\n",
    "n = 9.9\n",
    "cur_sum = 0\n",
    "# sum of n  numbers\n",
    "i = 0\n",
    "while  i != n :\n",
    "    cur_sum = cur_sum + i\n",
    "    i = i + 1.1\n",
    "    print(i)\n",
    "    \n",
    "print(\"The sum of the numbers from 1.1 to\", n, \"is \", sum)"
   ]
  },
  {
   "cell_type": "code",
   "execution_count": null,
   "metadata": {},
   "outputs": [],
   "source": [
    "# a more natural way to solve the problem\n",
    "n = 10\n",
    "cur_sum = 0\n",
    "for i in range(1, n+1) :\n",
    "    cur_sum = cur_sum + i\n",
    "print(\"The sum of the numbers from 1 to\", n, \"is \", cur_sum)"
   ]
  },
  {
   "cell_type": "markdown",
   "metadata": {},
   "source": [
    "### Creating a function"
   ]
  },
  {
   "cell_type": "code",
   "execution_count": 26,
   "metadata": {},
   "outputs": [
    {
     "name": "stdout",
     "output_type": "stream",
     "text": [
      "4\n"
     ]
    }
   ],
   "source": [
    "def get_item_count(items_str,sep):\n",
    "    '''\n",
    "    This function takes a string with a list of items and the character that they're separated by and returns the number of items\n",
    "    '''\n",
    "    items_list = items_str.split(sep)\n",
    "    num_items = len(items_list)\n",
    "    return num_items\n",
    "\n",
    "items_owned = \"bicycle;television;solar_panel;table\"\n",
    "print(get_item_count(items_owned,';'))\n",
    "item_count = get_item_count(items_owned,';')"
   ]
  },
  {
   "cell_type": "code",
   "execution_count": null,
   "metadata": {},
   "outputs": [],
   "source": [
    "def get_item_count(items_str,sep=';'):\n",
    "    '''\n",
    "    This function takes a string with a list of items and the character that they're separated by and returns the number of items \n",
    "    if the sep parameter is not provided, then the ‘,’ character is taken as the default value\n",
    "    '''\n",
    "    items_list = items_str.split(sep)\n",
    "    num_items = len(items_list)\n",
    "    return num_items\n",
    "\n",
    "\n",
    "print(get_item_count(items_owned))\n"
   ]
  },
  {
   "cell_type": "code",
   "execution_count": null,
   "metadata": {},
   "outputs": [],
   "source": [
    "def cuboid(H,W,L):\n",
    "    vol = H*W*L\n",
    "    sa = 2*(H*W + H*L + L*W)\n",
    "    edges = 4*(H + W + L)\n",
    "    return vol, sa, edges\n",
    "\n",
    "volume, surface_area, length_of_edges = cuboid(2,3,4)\n",
    "print(\"Volume = \", volume, \" Surface_area = \", surface_area, \" Sum of edges = \", length_of_edges)\n"
   ]
  },
  {
   "cell_type": "code",
   "execution_count": 4,
   "metadata": {},
   "outputs": [
    {
     "data": {
      "text/plain": [
       "[1, 2, ',', 3, 4, 5, 6, 7]"
      ]
     },
     "execution_count": 4,
     "metadata": {},
     "output_type": "execute_result"
    }
   ],
   "source": [
    "mylist = [1,2, \",\", 3,4,5,6,7]\n",
    "mylist"
   ]
  },
  {
   "cell_type": "code",
   "execution_count": 5,
   "metadata": {},
   "outputs": [
    {
     "data": {
      "text/plain": [
       "','"
      ]
     },
     "execution_count": 5,
     "metadata": {},
     "output_type": "execute_result"
    }
   ],
   "source": [
    "mylist[2]"
   ]
  },
  {
   "cell_type": "code",
   "execution_count": 15,
   "metadata": {},
   "outputs": [
    {
     "data": {
      "text/plain": [
       "[7, 6, 5, 4, 3, ',', 2, 1]"
      ]
     },
     "execution_count": 15,
     "metadata": {},
     "output_type": "execute_result"
    }
   ],
   "source": [
    "mylist[::-1]"
   ]
  },
  {
   "cell_type": "code",
   "execution_count": null,
   "metadata": {},
   "outputs": [],
   "source": []
  }
 ],
 "metadata": {
  "kernelspec": {
   "display_name": "Python 3",
   "language": "python",
   "name": "python3"
  },
  "language_info": {
   "codemirror_mode": {
    "name": "ipython",
    "version": 3
   },
   "file_extension": ".py",
   "mimetype": "text/x-python",
   "name": "python",
   "nbconvert_exporter": "python",
   "pygments_lexer": "ipython3",
   "version": "3.8.5"
  }
 },
 "nbformat": 4,
 "nbformat_minor": 4
}
